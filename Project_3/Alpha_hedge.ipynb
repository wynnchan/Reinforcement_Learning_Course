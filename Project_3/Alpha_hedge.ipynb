{
  "nbformat": 4,
  "nbformat_minor": 0,
  "metadata": {
    "colab": {
      "name": "Alpha_hedge.ipynb",
      "provenance": []
    },
    "kernelspec": {
      "name": "python3",
      "display_name": "Python 3"
    },
    "language_info": {
      "name": "python"
    }
  },
  "cells": [
    {
      "cell_type": "code",
      "execution_count": 1,
      "metadata": {
        "id": "OInf9kSZV_Z-"
      },
      "outputs": [],
      "source": [
        "import numpy as np"
      ]
    },
    {
      "cell_type": "code",
      "execution_count": 2,
      "metadata": {
        "id": "EwWsY8En5Jla"
      },
      "outputs": [],
      "source": [
        "from scipy.stats import norm\n",
        "\n",
        "class OptionHedgeEnv():\n",
        "\n",
        "  def __init__(self, r, T, vol, dt=1, x0=100, k=0.01):\n",
        "    '''\n",
        "    _state: np.array([hedge position, stock_price, time to maturity])\n",
        "    _stock_price: np.array of stock price with length T+1\n",
        "    _time_to_maturity\n",
        "    _strike_price\n",
        "    _episode_ended: if this episode is ended\n",
        "    '''\n",
        "    self._stock_price = self._generate_stockprice(r, T, vol, dt, x0)\n",
        "    self._time_to_mature = T\n",
        "    self._strike_price = x0\n",
        "    self._episode_ended = False\n",
        "    self._k = k\n",
        "    self._vol = vol\n",
        "    self._r = r\n",
        "    self._action = self._generate_action()\n",
        "    self._option_value = self._generate_option_value()\n",
        "    self._state = np.array([0, 100, T], dtype = np.float32)\n",
        "\n",
        "  def _generate_action(self):\n",
        "    T = self._time_to_mature\n",
        "    d1 = np.log(self._stock_price[:-1]/self._strike_price) + (self._r+self._vol**2/2)/252*np.array(list(range(T,0,-1)))\n",
        "    d1 = d1/(self._vol * np.sqrt(np.array(list(range(T,0,-1)))/252))\n",
        "    return norm.cdf(d1)\n",
        "\n",
        "  def _generate_stockprice(self, r, T, vol, dt=1, x0=100):\n",
        "    '''\n",
        "    r: annualized return\n",
        "    T: option time\n",
        "    vol: annualized volatility\n",
        "    dt: observing time interval\n",
        "    x0: initial price\n",
        "\n",
        "    return: np.array with shape (T,)\n",
        "    '''\n",
        "    mu = (1+r)**(1/252)-1\n",
        "    sigma = vol/np.sqrt(252)\n",
        "    x = np.exp((mu - sigma ** 2 / 2) * dt + sigma * np.random.normal(0, np.sqrt(dt), size=round(T/dt)))\n",
        "    x = x0 * x.cumprod(axis=0)\n",
        "    x = np.insert(x, 0, x0)\n",
        "    return x\n",
        "\n",
        "  def _generate_option_value(self):\n",
        "    T = self._time_to_mature\n",
        "    d1 = np.log(self._stock_price[:-1]/self._strike_price) + (self._r+self._vol**2/2)/252*np.array(list(range(T,0,-1)))\n",
        "    d1 = d1/(self._vol * np.sqrt(np.array(list(range(T,0,-1)))/252))\n",
        "    d2 = d1 - self._vol * np.sqrt(np.array(list(range(T,0, -1)))/252)\n",
        "    C = (norm.cdf(d1) - np.exp(-np.array(list(range(T,0,-1)))/252*self._r)*norm.cdf(d2))*self._strike_price\n",
        "    return np.append(C, self._stock_price[-1]-self._strike_price)\n",
        "\n",
        "  def _calculate_cashflow(self, new_state, old_state):\n",
        "    cashflow = - self._k*np.abs(old_state[1] * (old_state[0]-new_state[0]))\n",
        "    return cashflow\n",
        "  \n",
        "  def _value_change(self, new_state, old_state):\n",
        "    value_diff = new_state[0] * (new_state[1]-old_state[1]) - (self._option_value[-int(new_state[2])-1]-self._option_value[-int(old_state[2])-1])\n",
        "    return value_diff\n",
        "\n",
        "  def _reset(self):\n",
        "    self._state = np.array([0, 100, self._time_to_mature], dtype = np.float32)\n",
        "    self._stock_price = self._generate_stockprice(self._r, self._time_to_mature, self._k)\n",
        "    self._episode_ended = False\n",
        "    self._action = self._generate_action()\n",
        "    self._option_value = self._generate_option_value()\n",
        "\n",
        "  def _step(self, action):\n",
        "\n",
        "    if self._episode_ended:\n",
        "      # The last action ended the episode. Ignore the current action and start\n",
        "      # a new episode.\n",
        "      return self.reset()\n",
        "\n",
        "    old_state = self._state\n",
        "    new_state = np.array([0, 0, 0], dtype=np.float32)\n",
        "    new_state[0] = action\n",
        "    new_state[2] = old_state[2] - 1\n",
        "    time_to_mature = int(new_state[2])\n",
        "    new_state[1] = self._stock_price[-time_to_mature-1]\n",
        "    # Make sure episodes don't go on forever.\n",
        "    if time_to_mature == 0:\n",
        "      self._episode_ended = True\n",
        "\n",
        "    if self._episode_ended or time_to_mature == self._time_to_mature-1:\n",
        "      reward = self._calculate_cashflow(new_state, old_state)\n",
        "      reward += self._value_change(new_state, old_state)\n",
        "      reward -= self._k * np.abs(new_state[0] * new_state[1])\n",
        "      self._state = new_state\n",
        "      return reward\n",
        "    else:\n",
        "      reward = self._calculate_cashflow(new_state, old_state)\n",
        "      reward += self._value_change(new_state, old_state)\n",
        "      self._state = new_state\n",
        "      return reward\n",
        "\n",
        "  def hedge(self, rounds):\n",
        "    rewards = []\n",
        "    for i in range(rounds):\n",
        "      self._reset()\n",
        "      k = 0\n",
        "      total_re = 0      \n",
        "      while not self._episode_ended:\n",
        "        action = self._action[k]\n",
        "        reward = self._step(action)\n",
        "        total_re += reward\n",
        "        k += 1\n",
        "      rewards.append(total_re)\n",
        "    return rewards\n",
        "        "
      ]
    },
    {
      "cell_type": "code",
      "source": [
        "env = OptionHedgeEnv(0.05, 5, 0.2)"
      ],
      "metadata": {
        "id": "oDxFqqP-ZG6X"
      },
      "execution_count": 3,
      "outputs": []
    },
    {
      "cell_type": "code",
      "source": [
        "hedging_cost = env.hedge(10000)"
      ],
      "metadata": {
        "id": "9_i8pz9NZMDS"
      },
      "execution_count": 10,
      "outputs": []
    },
    {
      "cell_type": "code",
      "source": [
        "np.mean(hedging_cost) - env._option_value[0]"
      ],
      "metadata": {
        "colab": {
          "base_uri": "https://localhost:8080/"
        },
        "id": "x2N6SEljNv2T",
        "outputId": "996b1c64-024a-494a-8e04-1caa677cd069"
      },
      "execution_count": 11,
      "outputs": [
        {
          "output_type": "execute_result",
          "data": {
            "text/plain": [
              "-1.7967107337564365"
            ]
          },
          "metadata": {},
          "execution_count": 11
        }
      ]
    },
    {
      "cell_type": "code",
      "source": [
        "np.std(hedging_cost)"
      ],
      "metadata": {
        "id": "BDjZwVg2Nzq2",
        "outputId": "bc5e45f4-4378-435a-f5ae-8e1cd0235331",
        "colab": {
          "base_uri": "https://localhost:8080/"
        }
      },
      "execution_count": 12,
      "outputs": [
        {
          "output_type": "execute_result",
          "data": {
            "text/plain": [
              "0.1671511116869143"
            ]
          },
          "metadata": {},
          "execution_count": 12
        }
      ]
    },
    {
      "cell_type": "code",
      "source": [
        "0.1307 - env._option_value[0]"
      ],
      "metadata": {
        "colab": {
          "base_uri": "https://localhost:8080/"
        },
        "id": "Ckhwtt1cckXp",
        "outputId": "3c4f7d5f-de69-4b61-f378-781d6c31c64e"
      },
      "execution_count": 7,
      "outputs": [
        {
          "output_type": "execute_result",
          "data": {
            "text/plain": [
              "-1.5581200890873839"
            ]
          },
          "metadata": {},
          "execution_count": 7
        }
      ]
    },
    {
      "cell_type": "code",
      "source": [
        "1.558/1.796"
      ],
      "metadata": {
        "id": "24oI8IQ3cwU6",
        "colab": {
          "base_uri": "https://localhost:8080/"
        },
        "outputId": "a39b4d48-3ba2-4cc7-c54a-dbcb081f380d"
      },
      "execution_count": 8,
      "outputs": [
        {
          "output_type": "execute_result",
          "data": {
            "text/plain": [
              "0.8674832962138085"
            ]
          },
          "metadata": {},
          "execution_count": 8
        }
      ]
    },
    {
      "cell_type": "code",
      "source": [
        "0.13/0.167"
      ],
      "metadata": {
        "colab": {
          "base_uri": "https://localhost:8080/"
        },
        "id": "Qd27Fmw6fuEG",
        "outputId": "0b8690fd-8c80-425b-c0c7-7cd54b034510"
      },
      "execution_count": 13,
      "outputs": [
        {
          "output_type": "execute_result",
          "data": {
            "text/plain": [
              "0.7784431137724551"
            ]
          },
          "metadata": {},
          "execution_count": 13
        }
      ]
    },
    {
      "cell_type": "code",
      "source": [
        ""
      ],
      "metadata": {
        "id": "4HBpvomlgTWO"
      },
      "execution_count": null,
      "outputs": []
    }
  ]
}